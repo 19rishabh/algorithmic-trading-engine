{
 "cells": [
  {
   "cell_type": "code",
   "execution_count": 1,
   "id": "944df196-8f57-401a-8bb3-2ae441e9a2e0",
   "metadata": {},
   "outputs": [
    {
     "name": "stderr",
     "output_type": "stream",
     "text": [
      "C:\\Users\\rishabh\\AppData\\Local\\Temp\\ipykernel_34164\\47100723.py:16: FutureWarning: YF.download() has changed argument auto_adjust default to True\n",
      "  data = yf.download(ticker, start=start_date, end=end_date)\n",
      "[*********************100%***********************]  1 of 1 completed\n",
      "C:\\Users\\rishabh\\AppData\\Local\\Temp\\ipykernel_34164\\47100723.py:16: FutureWarning: YF.download() has changed argument auto_adjust default to True\n",
      "  data = yf.download(ticker, start=start_date, end=end_date)\n"
     ]
    },
    {
     "name": "stdout",
     "output_type": "stream",
     "text": [
      "Successfully downloaded data for RELIANCE.NS\n"
     ]
    },
    {
     "name": "stderr",
     "output_type": "stream",
     "text": [
      "[*********************100%***********************]  1 of 1 completed\n",
      "C:\\Users\\rishabh\\AppData\\Local\\Temp\\ipykernel_34164\\47100723.py:16: FutureWarning: YF.download() has changed argument auto_adjust default to True\n",
      "  data = yf.download(ticker, start=start_date, end=end_date)\n"
     ]
    },
    {
     "name": "stdout",
     "output_type": "stream",
     "text": [
      "Successfully downloaded data for TCS.NS\n"
     ]
    },
    {
     "name": "stderr",
     "output_type": "stream",
     "text": [
      "Failed to get ticker 'HDFCBANK.NS' reason: Failed to perform, curl: (56) Recv failure: Connection was reset. See https://curl.se/libcurl/c/libcurl-errors.html first for more details.\n",
      "[*********************100%***********************]  1 of 1 completed\n",
      "C:\\Users\\rishabh\\AppData\\Local\\Temp\\ipykernel_34164\\47100723.py:16: FutureWarning: YF.download() has changed argument auto_adjust default to True\n",
      "  data = yf.download(ticker, start=start_date, end=end_date)\n"
     ]
    },
    {
     "name": "stdout",
     "output_type": "stream",
     "text": [
      "Successfully downloaded data for HDFCBANK.NS\n"
     ]
    },
    {
     "name": "stderr",
     "output_type": "stream",
     "text": [
      "[*********************100%***********************]  1 of 1 completed\n",
      "C:\\Users\\rishabh\\AppData\\Local\\Temp\\ipykernel_34164\\47100723.py:16: FutureWarning: YF.download() has changed argument auto_adjust default to True\n",
      "  data = yf.download(ticker, start=start_date, end=end_date)\n"
     ]
    },
    {
     "name": "stdout",
     "output_type": "stream",
     "text": [
      "Successfully downloaded data for INFY.NS\n"
     ]
    },
    {
     "name": "stderr",
     "output_type": "stream",
     "text": [
      "[*********************100%***********************]  1 of 1 completed"
     ]
    },
    {
     "name": "stdout",
     "output_type": "stream",
     "text": [
      "Successfully downloaded data for ICICIBANK.NS\n",
      "\n",
      "--- Sample Data for RELIANCE.NS ---\n",
      "Price            Close        High         Low        Open      Volume\n",
      "Ticker     RELIANCE.NS RELIANCE.NS RELIANCE.NS RELIANCE.NS RELIANCE.NS\n",
      "Date                                                                  \n",
      "2015-08-07  214.144699  216.244048  212.578330  212.980800     8608888\n",
      "2015-08-10  210.783569  215.112794  209.826350  214.177344     9288894\n",
      "2015-08-11  210.152649  211.816897  208.412246  211.240394     8762464\n",
      "2015-08-12  205.127258  210.152650  204.616017  209.630532     9650325\n",
      "2015-08-13  203.049667  207.531186  202.190343  206.019218     9340350\n"
     ]
    },
    {
     "name": "stderr",
     "output_type": "stream",
     "text": [
      "\n"
     ]
    }
   ],
   "source": [
    "import yfinance as yf\n",
    "import pandas as pd\n",
    "import numpy as np\n",
    "import datetime\n",
    "\n",
    "#Define the stocks\n",
    "tickers = ['RELIANCE.NS', 'TCS.NS', 'HDFCBANK.NS', 'INFY.NS', 'ICICIBANK.NS']\n",
    "#Define the time period\n",
    "end_date = datetime.date.today()\n",
    "start_date = end_date - datetime.timedelta(days=10*365)\n",
    "\n",
    "#Fetch the data\n",
    "stock_data = {}\n",
    "for ticker in tickers:\n",
    "    try:\n",
    "        data = yf.download(ticker, start=start_date, end=end_date)\n",
    "        if data.empty:\n",
    "            print(f\"No data found for {ticker}.\")\n",
    "            continue\n",
    "        stock_data[ticker] = data\n",
    "        print(f\"Successfully downloaded data for {ticker}\")\n",
    "    except Exception as e:\n",
    "        print(f\"Could not download data for {ticker}. Error: {e}\")"
   ]
  },
  {
   "cell_type": "code",
   "execution_count": null,
   "id": "b0d04060-ec75-4bd0-bcdb-3a37bd8d1dbe",
   "metadata": {},
   "outputs": [],
   "source": []
  }
 ],
 "metadata": {
  "kernelspec": {
   "display_name": "Python 3 (ipykernel)",
   "language": "python",
   "name": "python3"
  },
  "language_info": {
   "codemirror_mode": {
    "name": "ipython",
    "version": 3
   },
   "file_extension": ".py",
   "mimetype": "text/x-python",
   "name": "python",
   "nbconvert_exporter": "python",
   "pygments_lexer": "ipython3",
   "version": "3.12.3"
  }
 },
 "nbformat": 4,
 "nbformat_minor": 5
}
