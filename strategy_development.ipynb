{
 "cells": [
  {
   "cell_type": "code",
   "execution_count": 2,
   "id": "944df196-8f57-401a-8bb3-2ae441e9a2e0",
   "metadata": {},
   "outputs": [
    {
     "name": "stderr",
     "output_type": "stream",
     "text": [
      "C:\\Users\\rishabh\\AppData\\Local\\Temp\\ipykernel_2816\\1763465938.py:16: FutureWarning: YF.download() has changed argument auto_adjust default to True\n",
      "  data = yf.download(ticker, start=start_date, end=end_date)\n",
      "[*********************100%***********************]  1 of 1 completed\n",
      "C:\\Users\\rishabh\\AppData\\Local\\Temp\\ipykernel_2816\\1763465938.py:16: FutureWarning: YF.download() has changed argument auto_adjust default to True\n",
      "  data = yf.download(ticker, start=start_date, end=end_date)\n"
     ]
    },
    {
     "name": "stdout",
     "output_type": "stream",
     "text": [
      "Flattened MultiIndex columns for RELIANCE.NS\n",
      "Successfully downloaded data for RELIANCE.NS\n"
     ]
    },
    {
     "name": "stderr",
     "output_type": "stream",
     "text": [
      "[*********************100%***********************]  1 of 1 completed\n",
      "C:\\Users\\rishabh\\AppData\\Local\\Temp\\ipykernel_2816\\1763465938.py:16: FutureWarning: YF.download() has changed argument auto_adjust default to True\n",
      "  data = yf.download(ticker, start=start_date, end=end_date)\n"
     ]
    },
    {
     "name": "stdout",
     "output_type": "stream",
     "text": [
      "Flattened MultiIndex columns for TCS.NS\n",
      "Successfully downloaded data for TCS.NS\n"
     ]
    },
    {
     "name": "stderr",
     "output_type": "stream",
     "text": [
      "[*********************100%***********************]  1 of 1 completed\n",
      "C:\\Users\\rishabh\\AppData\\Local\\Temp\\ipykernel_2816\\1763465938.py:16: FutureWarning: YF.download() has changed argument auto_adjust default to True\n",
      "  data = yf.download(ticker, start=start_date, end=end_date)\n"
     ]
    },
    {
     "name": "stdout",
     "output_type": "stream",
     "text": [
      "Flattened MultiIndex columns for HDFCBANK.NS\n",
      "Successfully downloaded data for HDFCBANK.NS\n"
     ]
    },
    {
     "name": "stderr",
     "output_type": "stream",
     "text": [
      "[*********************100%***********************]  1 of 1 completed\n",
      "C:\\Users\\rishabh\\AppData\\Local\\Temp\\ipykernel_2816\\1763465938.py:16: FutureWarning: YF.download() has changed argument auto_adjust default to True\n",
      "  data = yf.download(ticker, start=start_date, end=end_date)\n"
     ]
    },
    {
     "name": "stdout",
     "output_type": "stream",
     "text": [
      "Flattened MultiIndex columns for INFY.NS\n",
      "Successfully downloaded data for INFY.NS\n"
     ]
    },
    {
     "name": "stderr",
     "output_type": "stream",
     "text": [
      "[*********************100%***********************]  1 of 1 completed"
     ]
    },
    {
     "name": "stdout",
     "output_type": "stream",
     "text": [
      "Flattened MultiIndex columns for ICICIBANK.NS\n",
      "Successfully downloaded data for ICICIBANK.NS\n",
      "\n",
      "--- Sample Data for RELIANCE.NS ---\n",
      "Columns: Index(['Close', 'High', 'Low', 'Open', 'Volume'], dtype='object', name='Price')\n",
      "Price            Close        High         Low        Open   Volume\n",
      "Date                                                               \n",
      "2015-08-07  214.144699  216.244048  212.578330  212.980800  8608888\n",
      "2015-08-10  210.783539  215.112763  209.826320  214.177313  9288894\n",
      "2015-08-11  210.152664  211.816913  208.412261  211.240409  8762464\n",
      "2015-08-12  205.127258  210.152650  204.616017  209.630532  9650325\n",
      "2015-08-13  203.049667  207.531186  202.190343  206.019218  9340350\n"
     ]
    },
    {
     "name": "stderr",
     "output_type": "stream",
     "text": [
      "\n"
     ]
    }
   ],
   "source": [
    "import yfinance as yf\n",
    "import pandas as pd\n",
    "import numpy as np\n",
    "import datetime\n",
    "\n",
    "#Define the stocks\n",
    "tickers = ['RELIANCE.NS', 'TCS.NS', 'HDFCBANK.NS', 'INFY.NS', 'ICICIBANK.NS']\n",
    "#Define the time period\n",
    "end_date = datetime.date.today()\n",
    "start_date = end_date - datetime.timedelta(days=10*365)\n",
    "\n",
    "#Fetch the data\n",
    "stock_data = {}\n",
    "for ticker in tickers:\n",
    "    try:\n",
    "        data = yf.download(ticker, start=start_date, end=end_date)\n",
    "        if isinstance(data.columns, pd.MultiIndex):\n",
    "            data.columns = data.columns.get_level_values(0)\n",
    "            print(f\"Flattened MultiIndex columns for {ticker}\")\n",
    "        if data.empty:\n",
    "            print(f\"No data found for {ticker}.\")\n",
    "            continue\n",
    "        stock_data[ticker] = data\n",
    "        print(f\"Successfully downloaded data for {ticker}\")\n",
    "    except Exception as e:\n",
    "        print(f\"Could not download data for {ticker}. Error: {e}\")\n",
    "\n",
    "#Verify the download\n",
    "if stock_data:\n",
    "    sample_ticker = list(stock_data.keys())[0] \n",
    "    print(f\"\\n--- Sample Data for {sample_ticker} ---\")\n",
    "    print(\"Columns:\", stock_data[sample_ticker].columns)\n",
    "    print(stock_data[sample_ticker].head())"
   ]
  },
  {
   "cell_type": "code",
   "execution_count": 3,
   "id": "b0d04060-ec75-4bd0-bcdb-3a37bd8d1dbe",
   "metadata": {},
   "outputs": [
    {
     "name": "stderr",
     "output_type": "stream",
     "text": [
      "C:\\Users\\rishabh\\Desktop\\algorithmic-trading-engine\\quant_env\\Lib\\site-packages\\pandas_ta\\__init__.py:7: UserWarning: pkg_resources is deprecated as an API. See https://setuptools.pypa.io/en/latest/pkg_resources.html. The pkg_resources package is slated for removal as early as 2025-11-30. Refrain from using this package or pin to Setuptools<81.\n",
      "  from pkg_resources import get_distribution, DistributionNotFound\n"
     ]
    },
    {
     "name": "stdout",
     "output_type": "stream",
     "text": [
      "\n",
      "--- Data for RELIANCE.NS after Feature Engineering ---\n",
      "Price             Close         High          Low         Open    Volume  \\\n",
      "Date                                                                       \n",
      "2025-07-28  1387.599976  1407.800049  1385.000000  1392.300049   7748361   \n",
      "2025-07-29  1417.099976  1420.199951  1383.000000  1383.000000  10750072   \n",
      "2025-07-30  1410.099976  1423.300049  1401.300049  1418.099976   7209849   \n",
      "2025-07-31  1390.199951  1402.599976  1382.199951  1388.099976  17065827   \n",
      "2025-08-01  1393.699951  1405.900024  1384.300049  1386.900024  10321171   \n",
      "\n",
      "Price          RSI_14  MACD_12_26_9  MACDh_12_26_9  MACDs_12_26_9  \\\n",
      "Date                                                                \n",
      "2025-07-28  29.716545    -18.031500     -15.015276      -3.016224   \n",
      "2025-07-29  40.355353    -18.246702     -12.184382      -6.062319   \n",
      "2025-07-30  38.852490    -18.765772     -10.162762      -8.603010   \n",
      "2025-07-31  34.876120    -20.546062      -9.554442     -10.991620   \n",
      "2025-08-01  36.114543    -21.427531      -8.348729     -13.078803   \n",
      "\n",
      "Price        BBL_20_2.0   BBM_20_2.0   BBU_20_2.0  BBB_20_2.0  BBP_20_2.0  \\\n",
      "Date                                                                        \n",
      "2025-07-28  1377.633923  1477.904999  1578.176075   13.569353    0.049696   \n",
      "2025-07-29  1371.543606  1472.339996  1573.136387   13.691999    0.225982   \n",
      "2025-07-30  1364.999095  1466.904993  1568.810890   13.894001    0.221287   \n",
      "2025-07-31  1356.214559  1460.524988  1564.835416   14.283964    0.162905   \n",
      "2025-08-01  1350.387209  1453.844983  1557.302757   14.232298    0.209326   \n",
      "\n",
      "Price       Target  \n",
      "Date                \n",
      "2025-07-28       1  \n",
      "2025-07-29       0  \n",
      "2025-07-30       0  \n",
      "2025-07-31       1  \n",
      "2025-08-01       0  \n"
     ]
    }
   ],
   "source": [
    "import pandas_ta as ta\n",
    "\n",
    "for ticker, df in stock_data.items():\n",
    "    #1. Feature Engineering: Calculate Technical Indicators\n",
    "    \n",
    "    # Calculate Relative Strength Index (RSI) which measures momentum on a scale of 0 to 100.\n",
    "    df.ta.rsi(length=14, append=True)\n",
    "    # Calculate Moving Average Convergence Divergence (MACD) which is a trend-following momentum indicator.\n",
    "    df.ta.macd(fast=12, slow=26, signal=9, append=True)\n",
    "    # Calculate Bollinger Bands. These bands measure volatility by showing a price range around a simple moving average.\n",
    "    df.ta.bbands(length=20, std=2, append=True)\n",
    "    \n",
    "    #2. Target Definition: Will the price go UP tomorrow?\n",
    "    # We want to predict if the next day's 'Close' price will be higher than the current day's.\n",
    "    # We use .shift(-1) to look one day into the future.\n",
    "    # The result is 1 if the price goes up, and 0 if it goes down or stays the same.\n",
    "    df['Target'] = (df['Close'].shift(-1) > df['Close']).astype(int)\n",
    "    \n",
    "    #3. Clean the Data\n",
    "    # Calculating indicators and shifting the target creates rows with missing values (NaN).\n",
    "    # We drop these rows to ensure our dataset is clean.\n",
    "    df.dropna(inplace=True)\n",
    "\n",
    "#Verify result of one of the DataFrames to see new columns.\n",
    "if stock_data:\n",
    "    sample_ticker = list(stock_data.keys())[0]\n",
    "    print(f\"\\n--- Data for {sample_ticker} after Feature Engineering ---\")\n",
    "    # Display the last 5 rows to see the new features and the Target column\n",
    "    print(stock_data[sample_ticker].tail())"
   ]
  },
  {
   "cell_type": "code",
   "execution_count": 4,
   "id": "965fffb4-d468-4228-a6e9-a9d54cf66a68",
   "metadata": {},
   "outputs": [
    {
     "name": "stdout",
     "output_type": "stream",
     "text": [
      "Training data size: 1945 samples\n",
      "Test data size: 487 samples\n",
      "\n",
      "--- Model Evaluation for RELIANCE.NS ---\n",
      "Accuracy: 0.4641\n",
      "Precision (for predicting 'Up'): 0.4231\n",
      "\n",
      "Confusion Matrix:\n"
     ]
    },
    {
     "data": {
      "image/png": "[encoded data removed]",
      "text/plain": [
       "<Figure size 640x480 with 2 Axes>"
      ]
     },
     "metadata": {},
     "output_type": "display_data"
    }
   ],
   "source": [
    "from sklearn.ensemble import RandomForestClassifier\n",
    "from sklearn.metrics import accuracy_score, precision_score, confusion_matrix\n",
    "import matplotlib.pyplot as plt\n",
    "import seaborn as sns\n",
    "\n",
    "# Select a single stock to train the model on for now\n",
    "ticker = 'RELIANCE.NS'\n",
    "df = stock_data[ticker]\n",
    "\n",
    "#1. Define Features (X) and Target (y)\n",
    "X = df.drop(columns=['Target'])\n",
    "y = df['Target']\n",
    "\n",
    "#2. Split Data Chronologically (Crucial for Time Series)\n",
    "# DO NOT use train_test_split from sklearn as it shuffles the data and we must preserve the time sequence.\n",
    "# Define the split point (e.g., 80% for training, 20% for testing)\n",
    "split_percentage = 0.8\n",
    "split_index = int(len(X) * split_percentage)\n",
    "X_train, X_test = X[:split_index], X[split_index:]\n",
    "y_train, y_test = y[:split_index], y[split_index:]\n",
    "print(f\"Training data size: {len(X_train)} samples\")\n",
    "print(f\"Test data size: {len(X_test)} samples\")\n",
    "\n",
    "\n",
    "#3. Train the Random Forest Model\n",
    "# Random Forest is a strong choice as it's robust and handles complex data well.\n",
    "model = RandomForestClassifier(n_estimators=100, random_state=42, n_jobs=-1)\n",
    "model.fit(X_train, y_train)\n",
    "\n",
    "#4. Preliminary Model Evaluation\n",
    "# This checks the model's predictive power, not its financial performance yet.\n",
    "y_pred = model.predict(X_test)\n",
    "\n",
    "# Calculate metrics\n",
    "accuracy = accuracy_score(y_test, y_pred)\n",
    "precision = precision_score(y_test, y_pred) # Precision is important: how many 'up' predictions were correct?\n",
    "print(f\"\\n--- Model Evaluation for {ticker} ---\")\n",
    "print(f\"Accuracy: {accuracy:.4f}\")\n",
    "print(f\"Precision (for predicting 'Up'): {precision:.4f}\")\n",
    "\n",
    "# Display a confusion matrix\n",
    "print(\"\\nConfusion Matrix:\")\n",
    "cm = confusion_matrix(y_test, y_pred)\n",
    "sns.heatmap(cm, annot=True, fmt='d', cmap='Blues', xticklabels=['Down', 'Up'], yticklabels=['Down', 'Up'])\n",
    "plt.xlabel('Predicted')\n",
    "plt.ylabel('Actual')\n",
    "plt.show()"
   ]
  },
  {
   "cell_type": "code",
   "execution_count": 5,
   "id": "c349094c-5de1-4c9a-a879-1cad81bfd6e0",
   "metadata": {},
   "outputs": [
    {
     "name": "stdout",
     "output_type": "stream",
     "text": [
      "--- Backtest Results ---\n",
      "Initial Portfolio Value: ₹100,000.00\n",
      "Final Portfolio Value:   ₹99,715.17\n",
      "\n",
      "Last 5 days of the backtest:\n",
      "            Portfolio_Value\n",
      "Date                       \n",
      "2025-07-28     99715.171823\n",
      "2025-07-29     99715.171823\n",
      "2025-07-30     99715.171823\n",
      "2025-07-31     99715.171823\n",
      "2025-08-01     99715.171823\n"
     ]
    }
   ],
   "source": [
    "# Import our newly created backtesting function\n",
    "from backtester import run_backtest\n",
    "\n",
    "# Run the backtest using our function\n",
    "results_df = run_backtest(X_test, y_pred, initial_capital=100000.0)\n",
    "\n",
    "\n",
    "# --- Verify the result ---\n",
    "print(f\"--- Backtest Results ---\")\n",
    "print(f\"Initial Portfolio Value: ₹{100000.0:,.2f}\")\n",
    "print(f\"Final Portfolio Value:   ₹{results_df['Portfolio_Value'].iloc[-1]:,.2f}\")\n",
    "print(\"\\nLast 5 days of the backtest:\")\n",
    "print(results_df.tail())"
   ]
  },
  {
   "cell_type": "code",
   "execution_count": null,
   "id": "70feb674-18bc-4c4b-8c69-414e3ac83ec6",
   "metadata": {},
   "outputs": [],
   "source": []
  }
 ],
 "metadata": {
  "kernelspec": {
   "display_name": "Python 3 (ipykernel)",
   "language": "python",
   "name": "python3"
  },
  "language_info": {
   "codemirror_mode": {
    "name": "ipython",
    "version": 3
   },
   "file_extension": ".py",
   "mimetype": "text/x-python",
   "name": "python",
   "nbconvert_exporter": "python",
   "pygments_lexer": "ipython3",
   "version": "3.12.3"
  }
 },
 "nbformat": 4,
 "nbformat_minor": 5
}
