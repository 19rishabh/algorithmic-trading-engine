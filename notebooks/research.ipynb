{
 "cells": [
  {
   "cell_type": "code",
   "execution_count": 2,
   "id": "906f72b4",
   "metadata": {},
   "outputs": [
    {
     "name": "stdout",
     "output_type": "stream",
     "text": [
      "Cache not found for 'RELIANCE.NS'. Downloading from yfinance...\n"
     ]
    },
    {
     "name": "stderr",
     "output_type": "stream",
     "text": [
      "c:\\Users\\rishabh\\Desktop\\algorithmic-trading-engine\\src\\data_handler.py:46: FutureWarning: YF.download() has changed argument auto_adjust default to True\n",
      "  data = yf.download(ticker, start=self.start_date, end=self.end_date, progress=False)\n"
     ]
    },
    {
     "name": "stdout",
     "output_type": "stream",
     "text": [
      "Successfully downloaded and cached 'RELIANCE.NS'.\n",
      "Cache not found for 'TCS.NS'. Downloading from yfinance...\n"
     ]
    },
    {
     "name": "stderr",
     "output_type": "stream",
     "text": [
      "c:\\Users\\rishabh\\Desktop\\algorithmic-trading-engine\\src\\data_handler.py:46: FutureWarning: YF.download() has changed argument auto_adjust default to True\n",
      "  data = yf.download(ticker, start=self.start_date, end=self.end_date, progress=False)\n"
     ]
    },
    {
     "name": "stdout",
     "output_type": "stream",
     "text": [
      "Successfully downloaded and cached 'TCS.NS'.\n",
      "Cache not found for 'HDFCBANK.NS'. Downloading from yfinance...\n"
     ]
    },
    {
     "name": "stderr",
     "output_type": "stream",
     "text": [
      "c:\\Users\\rishabh\\Desktop\\algorithmic-trading-engine\\src\\data_handler.py:46: FutureWarning: YF.download() has changed argument auto_adjust default to True\n",
      "  data = yf.download(ticker, start=self.start_date, end=self.end_date, progress=False)\n"
     ]
    },
    {
     "name": "stdout",
     "output_type": "stream",
     "text": [
      "Successfully downloaded and cached 'HDFCBANK.NS'.\n",
      "Loading 'INFY.NS' from cache...\n",
      "Loading 'ICICIBANK.NS' from cache...\n",
      "\n",
      "--- Sample of fetched data ---\n",
      "Price            Close        High         Low        Open    Volume\n",
      "Date                                                                \n",
      "2015-01-01  190.758667  191.639525  189.845584  190.414929   2963643\n",
      "2015-01-02  190.253784  192.509638  189.985239  190.801631   7331366\n",
      "2015-01-05  188.169800  191.403188  187.793822  190.135610  10103941\n",
      "2015-01-06  179.629807  187.557498  178.748949  186.912974  18627980\n",
      "2015-01-07  183.539948  184.506740  179.823178  179.844662  20720312\n"
     ]
    }
   ],
   "source": [
    "import sys\n",
    "import os\n",
    "\n",
    "# --- This is the fix ---\n",
    "# Get the absolute path of the project's root directory\n",
    "project_root = os.path.abspath(os.path.join(os.path.dirname(__file__), '..')) if '__file__' in locals() else os.path.abspath(os.path.join(os.getcwd(), '..'))\n",
    "\n",
    "# Add the project root to the Python path if it's not already there\n",
    "if project_root not in sys.path:\n",
    "    sys.path.append(project_root)\n",
    "# ----------------------\n",
    "\n",
    "# Now your import will work correctly\n",
    "from src.data_handler import DataHandler\n",
    "\n",
    "# Define the path to our config file (it's now relative to the project root)\n",
    "config_path = '../config/strategy_config.yaml'\n",
    "\n",
    "# Create an instance of the class\n",
    "data_handler = DataHandler(config_path=config_path)\n",
    "\n",
    "# Fetch the data\n",
    "all_stock_data = data_handler.fetch_data()\n",
    "\n",
    "# Print the head of one of the dataframes to verify\n",
    "if all_stock_data:\n",
    "    print(\"\\n--- Sample of fetched data ---\")\n",
    "    print(all_stock_data['RELIANCE.NS'].head())"
   ]
  },
  {
   "cell_type": "code",
   "execution_count": 3,
   "id": "4bfff332",
   "metadata": {},
   "outputs": [
    {
     "name": "stderr",
     "output_type": "stream",
     "text": [
      "c:\\Users\\rishabh\\Desktop\\algorithmic-trading-engine\\quant_env\\Lib\\site-packages\\pandas_ta\\__init__.py:7: UserWarning: pkg_resources is deprecated as an API. See https://setuptools.pypa.io/en/latest/pkg_resources.html. The pkg_resources package is slated for removal as early as 2025-11-30. Refrain from using this package or pin to Setuptools<81.\n",
      "  from pkg_resources import get_distribution, DistributionNotFound\n"
     ]
    },
    {
     "name": "stdout",
     "output_type": "stream",
     "text": [
      "Adding features and target variable...\n",
      "Feature engineering complete.\n",
      "\n",
      "--- Sample of data after adding features ---\n",
      "New columns added: ['RSI_14', 'MACD_12_26_9', 'MACDh_12_26_9', 'MACDs_12_26_9', 'BBL_20_2.0', 'fwd_return_1d']\n",
      "Price            Close        High         Low        Open    Volume  \\\n",
      "Date                                                                   \n",
      "2015-02-19  193.798660  194.991045  190.683447  194.851387   9550637   \n",
      "2015-02-20  187.579010  192.498907  187.192290  192.337765  18717199   \n",
      "2015-02-23  182.927673  188.363192  181.993106  186.902261  14104463   \n",
      "2015-02-24  180.779221  184.077059  179.823184  183.529212  19946218   \n",
      "2015-02-25  181.144470  184.012622  180.693299  182.358339  15274116   \n",
      "\n",
      "Price          RSI_14  MACD_12_26_9  MACDh_12_26_9  MACDs_12_26_9  BBL_20_2.0  \\\n",
      "Date                                                                            \n",
      "2015-02-19  51.096523      2.484637      -1.086588       3.571225  188.406309   \n",
      "2015-02-20  42.051021      1.761626      -1.447679       3.209305  187.307529   \n",
      "2015-02-23  36.803788      0.804042      -1.924211       2.728253  185.565764   \n",
      "2015-02-24  34.652861     -0.126752      -2.284003       2.157252  183.371755   \n",
      "2015-02-25  35.344670     -0.825425      -2.386141       1.560716  181.557413   \n",
      "\n",
      "Price       BBM_20_2.0  BBU_20_2.0  BBB_20_2.0  BBP_20_2.0  fwd_return_1d  \n",
      "Date                                                                       \n",
      "2015-02-19  194.846569  201.286829    6.610596    0.418644      -0.032093  \n",
      "2015-02-20  194.485098  201.662667    7.381099    0.018912      -0.024797  \n",
      "2015-02-23  194.138130  202.710496    8.831203   -0.153872      -0.011745  \n",
      "2015-02-24  193.649900  203.928045   10.615183   -0.126119       0.002020  \n",
      "2015-02-25  193.156837  204.756262   12.010369   -0.017800      -0.001364  \n"
     ]
    }
   ],
   "source": [
    "# We should already have 'all_stock_data' and 'config_path' \n",
    "# from running the previous cell.\n",
    "\n",
    "# Import our new class\n",
    "from src.feature_engineer import FeatureEngineer\n",
    "\n",
    "# Create an instance of the class\n",
    "feature_engineer = FeatureEngineer(config_path=config_path)\n",
    "\n",
    "# Pass the raw data to the add_features method\n",
    "featured_data = feature_engineer.add_features(all_stock_data)\n",
    "\n",
    "# --- Verify the result ---\n",
    "# Check one of the DataFrames to see if the new columns were added.\n",
    "if featured_data:\n",
    "    print(\"\\n--- Sample of data after adding features ---\")\n",
    "    sample_df = featured_data['RELIANCE.NS']\n",
    "    \n",
    "    # Get a list of new columns to verify\n",
    "    new_cols = [col for col in sample_df.columns if 'RSI' in col or 'MACD' in col or 'BBL' in col or 'fwd_return' in col]\n",
    "    \n",
    "    print(f\"New columns added: {new_cols}\")\n",
    "    print(sample_df.head())"
   ]
  },
  {
   "cell_type": "code",
   "execution_count": null,
   "id": "e096197b",
   "metadata": {},
   "outputs": [],
   "source": []
  }
 ],
 "metadata": {
  "kernelspec": {
   "display_name": "quant_env",
   "language": "python",
   "name": "python3"
  },
  "language_info": {
   "codemirror_mode": {
    "name": "ipython",
    "version": 3
   },
   "file_extension": ".py",
   "mimetype": "text/x-python",
   "name": "python",
   "nbconvert_exporter": "python",
   "pygments_lexer": "ipython3",
   "version": "3.12.3"
  }
 },
 "nbformat": 4,
 "nbformat_minor": 5
}
